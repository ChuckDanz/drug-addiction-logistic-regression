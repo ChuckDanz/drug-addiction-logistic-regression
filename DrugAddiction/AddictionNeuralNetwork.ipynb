{
  "nbformat": 4,
  "nbformat_minor": 0,
  "metadata": {
    "colab": {
      "provenance": []
    },
    "kernelspec": {
      "name": "python3",
      "display_name": "Python 3"
    },
    "language_info": {
      "name": "python"
    }
  },
  "cells": [
    {
      "cell_type": "code",
      "execution_count": 1,
      "metadata": {
        "id": "Ew77B0PCW190"
      },
      "outputs": [],
      "source": [
        "import numpy as np\n",
        "import tensorflow as tf\n",
        "import pandas as pd\n",
        "from sklearn.preprocessing import LabelEncoder, StandardScaler\n",
        "from sklearn.model_selection import train_test_split, GridSearchCV\n",
        "from tensorflow.keras.models import Sequential\n",
        "from tensorflow.keras.layers import Dense\n",
        "from tensorflow.keras.regularizers import l2\n",
        "import xgboost as xgb\n"
      ]
    },
    {
      "cell_type": "markdown",
      "source": [],
      "metadata": {
        "id": "14RkmwmWXGxe"
      }
    },
    {
      "cell_type": "code",
      "source": [
        "file_path = '/content/drive/MyDrive/student_addiction_dataset_train 2(in).csv'\n",
        "data = pd.read_csv(file_path)\n",
        "\n",
        "data\n"
      ],
      "metadata": {
        "colab": {
          "base_uri": "https://localhost:8080/",
          "height": 443
        },
        "id": "BXpSW598agaa",
        "outputId": "e44a1ee3-7804-4809-e6f6-e1c43adfb258"
      },
      "execution_count": 2,
      "outputs": [
        {
          "output_type": "execute_result",
          "data": {
            "text/plain": [
              "      Experimentation Academic_Performance_Decline Social_Isolation  \\\n",
              "0                 Yes                           No               No   \n",
              "1                  No                          Yes               No   \n",
              "2                  No                           No               No   \n",
              "3                 Yes                           No              Yes   \n",
              "4                 Yes                          Yes               No   \n",
              "...               ...                          ...              ...   \n",
              "50337             Yes                          Yes               No   \n",
              "50338              No                           No              Yes   \n",
              "50339              No                          Yes              Yes   \n",
              "50340              No                          Yes              Yes   \n",
              "50341             Yes                           No               No   \n",
              "\n",
              "      Financial_Issues Physical_Mental_Health_Problems Legal_Consequences  \\\n",
              "0                  Yes                              No                 No   \n",
              "1                  Yes                             Yes                Yes   \n",
              "2                   No                              No                Yes   \n",
              "3                  Yes                              No                Yes   \n",
              "4                  Yes                              No                Yes   \n",
              "...                ...                             ...                ...   \n",
              "50337              Yes                             Yes                Yes   \n",
              "50338              Yes                              No                 No   \n",
              "50339               No                              No                Yes   \n",
              "50340               No                             Yes                 No   \n",
              "50341               No                              No                Yes   \n",
              "\n",
              "      Relationship_Strain Risk_Taking_Behavior Withdrawal_Symptoms  \\\n",
              "0                      No                  Yes                 Yes   \n",
              "1                     Yes                  Yes                 Yes   \n",
              "2                     Yes                  Yes                 Yes   \n",
              "3                      No                   No                  No   \n",
              "4                     Yes                  Yes                 Yes   \n",
              "...                   ...                  ...                 ...   \n",
              "50337                 Yes                   No                  No   \n",
              "50338                 Yes                   No                  No   \n",
              "50339                 Yes                   No                  No   \n",
              "50340                  No                   No                  No   \n",
              "50341                 Yes                   No                  No   \n",
              "\n",
              "      Denial_and_Resistance_to_Treatment Addiction_Class  \n",
              "0                                     No              No  \n",
              "1                                     No             Yes  \n",
              "2                                     No              No  \n",
              "3                                    Yes             Yes  \n",
              "4                                     No             Yes  \n",
              "...                                  ...             ...  \n",
              "50337                                 No              No  \n",
              "50338                                 No             Yes  \n",
              "50339                                Yes              No  \n",
              "50340                                 No              No  \n",
              "50341                                 No              No  \n",
              "\n",
              "[50342 rows x 11 columns]"
            ],
            "text/html": [
              "\n",
              "  <div id=\"df-40799d4b-d961-40cb-b95b-e0af215dc8fd\" class=\"colab-df-container\">\n",
              "    <div>\n",
              "<style scoped>\n",
              "    .dataframe tbody tr th:only-of-type {\n",
              "        vertical-align: middle;\n",
              "    }\n",
              "\n",
              "    .dataframe tbody tr th {\n",
              "        vertical-align: top;\n",
              "    }\n",
              "\n",
              "    .dataframe thead th {\n",
              "        text-align: right;\n",
              "    }\n",
              "</style>\n",
              "<table border=\"1\" class=\"dataframe\">\n",
              "  <thead>\n",
              "    <tr style=\"text-align: right;\">\n",
              "      <th></th>\n",
              "      <th>Experimentation</th>\n",
              "      <th>Academic_Performance_Decline</th>\n",
              "      <th>Social_Isolation</th>\n",
              "      <th>Financial_Issues</th>\n",
              "      <th>Physical_Mental_Health_Problems</th>\n",
              "      <th>Legal_Consequences</th>\n",
              "      <th>Relationship_Strain</th>\n",
              "      <th>Risk_Taking_Behavior</th>\n",
              "      <th>Withdrawal_Symptoms</th>\n",
              "      <th>Denial_and_Resistance_to_Treatment</th>\n",
              "      <th>Addiction_Class</th>\n",
              "    </tr>\n",
              "  </thead>\n",
              "  <tbody>\n",
              "    <tr>\n",
              "      <th>0</th>\n",
              "      <td>Yes</td>\n",
              "      <td>No</td>\n",
              "      <td>No</td>\n",
              "      <td>Yes</td>\n",
              "      <td>No</td>\n",
              "      <td>No</td>\n",
              "      <td>No</td>\n",
              "      <td>Yes</td>\n",
              "      <td>Yes</td>\n",
              "      <td>No</td>\n",
              "      <td>No</td>\n",
              "    </tr>\n",
              "    <tr>\n",
              "      <th>1</th>\n",
              "      <td>No</td>\n",
              "      <td>Yes</td>\n",
              "      <td>No</td>\n",
              "      <td>Yes</td>\n",
              "      <td>Yes</td>\n",
              "      <td>Yes</td>\n",
              "      <td>Yes</td>\n",
              "      <td>Yes</td>\n",
              "      <td>Yes</td>\n",
              "      <td>No</td>\n",
              "      <td>Yes</td>\n",
              "    </tr>\n",
              "    <tr>\n",
              "      <th>2</th>\n",
              "      <td>No</td>\n",
              "      <td>No</td>\n",
              "      <td>No</td>\n",
              "      <td>No</td>\n",
              "      <td>No</td>\n",
              "      <td>Yes</td>\n",
              "      <td>Yes</td>\n",
              "      <td>Yes</td>\n",
              "      <td>Yes</td>\n",
              "      <td>No</td>\n",
              "      <td>No</td>\n",
              "    </tr>\n",
              "    <tr>\n",
              "      <th>3</th>\n",
              "      <td>Yes</td>\n",
              "      <td>No</td>\n",
              "      <td>Yes</td>\n",
              "      <td>Yes</td>\n",
              "      <td>No</td>\n",
              "      <td>Yes</td>\n",
              "      <td>No</td>\n",
              "      <td>No</td>\n",
              "      <td>No</td>\n",
              "      <td>Yes</td>\n",
              "      <td>Yes</td>\n",
              "    </tr>\n",
              "    <tr>\n",
              "      <th>4</th>\n",
              "      <td>Yes</td>\n",
              "      <td>Yes</td>\n",
              "      <td>No</td>\n",
              "      <td>Yes</td>\n",
              "      <td>No</td>\n",
              "      <td>Yes</td>\n",
              "      <td>Yes</td>\n",
              "      <td>Yes</td>\n",
              "      <td>Yes</td>\n",
              "      <td>No</td>\n",
              "      <td>Yes</td>\n",
              "    </tr>\n",
              "    <tr>\n",
              "      <th>...</th>\n",
              "      <td>...</td>\n",
              "      <td>...</td>\n",
              "      <td>...</td>\n",
              "      <td>...</td>\n",
              "      <td>...</td>\n",
              "      <td>...</td>\n",
              "      <td>...</td>\n",
              "      <td>...</td>\n",
              "      <td>...</td>\n",
              "      <td>...</td>\n",
              "      <td>...</td>\n",
              "    </tr>\n",
              "    <tr>\n",
              "      <th>50337</th>\n",
              "      <td>Yes</td>\n",
              "      <td>Yes</td>\n",
              "      <td>No</td>\n",
              "      <td>Yes</td>\n",
              "      <td>Yes</td>\n",
              "      <td>Yes</td>\n",
              "      <td>Yes</td>\n",
              "      <td>No</td>\n",
              "      <td>No</td>\n",
              "      <td>No</td>\n",
              "      <td>No</td>\n",
              "    </tr>\n",
              "    <tr>\n",
              "      <th>50338</th>\n",
              "      <td>No</td>\n",
              "      <td>No</td>\n",
              "      <td>Yes</td>\n",
              "      <td>Yes</td>\n",
              "      <td>No</td>\n",
              "      <td>No</td>\n",
              "      <td>Yes</td>\n",
              "      <td>No</td>\n",
              "      <td>No</td>\n",
              "      <td>No</td>\n",
              "      <td>Yes</td>\n",
              "    </tr>\n",
              "    <tr>\n",
              "      <th>50339</th>\n",
              "      <td>No</td>\n",
              "      <td>Yes</td>\n",
              "      <td>Yes</td>\n",
              "      <td>No</td>\n",
              "      <td>No</td>\n",
              "      <td>Yes</td>\n",
              "      <td>Yes</td>\n",
              "      <td>No</td>\n",
              "      <td>No</td>\n",
              "      <td>Yes</td>\n",
              "      <td>No</td>\n",
              "    </tr>\n",
              "    <tr>\n",
              "      <th>50340</th>\n",
              "      <td>No</td>\n",
              "      <td>Yes</td>\n",
              "      <td>Yes</td>\n",
              "      <td>No</td>\n",
              "      <td>Yes</td>\n",
              "      <td>No</td>\n",
              "      <td>No</td>\n",
              "      <td>No</td>\n",
              "      <td>No</td>\n",
              "      <td>No</td>\n",
              "      <td>No</td>\n",
              "    </tr>\n",
              "    <tr>\n",
              "      <th>50341</th>\n",
              "      <td>Yes</td>\n",
              "      <td>No</td>\n",
              "      <td>No</td>\n",
              "      <td>No</td>\n",
              "      <td>No</td>\n",
              "      <td>Yes</td>\n",
              "      <td>Yes</td>\n",
              "      <td>No</td>\n",
              "      <td>No</td>\n",
              "      <td>No</td>\n",
              "      <td>No</td>\n",
              "    </tr>\n",
              "  </tbody>\n",
              "</table>\n",
              "<p>50342 rows × 11 columns</p>\n",
              "</div>\n",
              "    <div class=\"colab-df-buttons\">\n",
              "\n",
              "  <div class=\"colab-df-container\">\n",
              "    <button class=\"colab-df-convert\" onclick=\"convertToInteractive('df-40799d4b-d961-40cb-b95b-e0af215dc8fd')\"\n",
              "            title=\"Convert this dataframe to an interactive table.\"\n",
              "            style=\"display:none;\">\n",
              "\n",
              "  <svg xmlns=\"http://www.w3.org/2000/svg\" height=\"24px\" viewBox=\"0 -960 960 960\">\n",
              "    <path d=\"M120-120v-720h720v720H120Zm60-500h600v-160H180v160Zm220 220h160v-160H400v160Zm0 220h160v-160H400v160ZM180-400h160v-160H180v160Zm440 0h160v-160H620v160ZM180-180h160v-160H180v160Zm440 0h160v-160H620v160Z\"/>\n",
              "  </svg>\n",
              "    </button>\n",
              "\n",
              "  <style>\n",
              "    .colab-df-container {\n",
              "      display:flex;\n",
              "      gap: 12px;\n",
              "    }\n",
              "\n",
              "    .colab-df-convert {\n",
              "      background-color: #E8F0FE;\n",
              "      border: none;\n",
              "      border-radius: 50%;\n",
              "      cursor: pointer;\n",
              "      display: none;\n",
              "      fill: #1967D2;\n",
              "      height: 32px;\n",
              "      padding: 0 0 0 0;\n",
              "      width: 32px;\n",
              "    }\n",
              "\n",
              "    .colab-df-convert:hover {\n",
              "      background-color: #E2EBFA;\n",
              "      box-shadow: 0px 1px 2px rgba(60, 64, 67, 0.3), 0px 1px 3px 1px rgba(60, 64, 67, 0.15);\n",
              "      fill: #174EA6;\n",
              "    }\n",
              "\n",
              "    .colab-df-buttons div {\n",
              "      margin-bottom: 4px;\n",
              "    }\n",
              "\n",
              "    [theme=dark] .colab-df-convert {\n",
              "      background-color: #3B4455;\n",
              "      fill: #D2E3FC;\n",
              "    }\n",
              "\n",
              "    [theme=dark] .colab-df-convert:hover {\n",
              "      background-color: #434B5C;\n",
              "      box-shadow: 0px 1px 3px 1px rgba(0, 0, 0, 0.15);\n",
              "      filter: drop-shadow(0px 1px 2px rgba(0, 0, 0, 0.3));\n",
              "      fill: #FFFFFF;\n",
              "    }\n",
              "  </style>\n",
              "\n",
              "    <script>\n",
              "      const buttonEl =\n",
              "        document.querySelector('#df-40799d4b-d961-40cb-b95b-e0af215dc8fd button.colab-df-convert');\n",
              "      buttonEl.style.display =\n",
              "        google.colab.kernel.accessAllowed ? 'block' : 'none';\n",
              "\n",
              "      async function convertToInteractive(key) {\n",
              "        const element = document.querySelector('#df-40799d4b-d961-40cb-b95b-e0af215dc8fd');\n",
              "        const dataTable =\n",
              "          await google.colab.kernel.invokeFunction('convertToInteractive',\n",
              "                                                    [key], {});\n",
              "        if (!dataTable) return;\n",
              "\n",
              "        const docLinkHtml = 'Like what you see? Visit the ' +\n",
              "          '<a target=\"_blank\" href=https://colab.research.google.com/notebooks/data_table.ipynb>data table notebook</a>'\n",
              "          + ' to learn more about interactive tables.';\n",
              "        element.innerHTML = '';\n",
              "        dataTable['output_type'] = 'display_data';\n",
              "        await google.colab.output.renderOutput(dataTable, element);\n",
              "        const docLink = document.createElement('div');\n",
              "        docLink.innerHTML = docLinkHtml;\n",
              "        element.appendChild(docLink);\n",
              "      }\n",
              "    </script>\n",
              "  </div>\n",
              "\n",
              "\n",
              "<div id=\"df-c089b125-f2fd-4926-b947-6497cc795837\">\n",
              "  <button class=\"colab-df-quickchart\" onclick=\"quickchart('df-c089b125-f2fd-4926-b947-6497cc795837')\"\n",
              "            title=\"Suggest charts\"\n",
              "            style=\"display:none;\">\n",
              "\n",
              "<svg xmlns=\"http://www.w3.org/2000/svg\" height=\"24px\"viewBox=\"0 0 24 24\"\n",
              "     width=\"24px\">\n",
              "    <g>\n",
              "        <path d=\"M19 3H5c-1.1 0-2 .9-2 2v14c0 1.1.9 2 2 2h14c1.1 0 2-.9 2-2V5c0-1.1-.9-2-2-2zM9 17H7v-7h2v7zm4 0h-2V7h2v10zm4 0h-2v-4h2v4z\"/>\n",
              "    </g>\n",
              "</svg>\n",
              "  </button>\n",
              "\n",
              "<style>\n",
              "  .colab-df-quickchart {\n",
              "      --bg-color: #E8F0FE;\n",
              "      --fill-color: #1967D2;\n",
              "      --hover-bg-color: #E2EBFA;\n",
              "      --hover-fill-color: #174EA6;\n",
              "      --disabled-fill-color: #AAA;\n",
              "      --disabled-bg-color: #DDD;\n",
              "  }\n",
              "\n",
              "  [theme=dark] .colab-df-quickchart {\n",
              "      --bg-color: #3B4455;\n",
              "      --fill-color: #D2E3FC;\n",
              "      --hover-bg-color: #434B5C;\n",
              "      --hover-fill-color: #FFFFFF;\n",
              "      --disabled-bg-color: #3B4455;\n",
              "      --disabled-fill-color: #666;\n",
              "  }\n",
              "\n",
              "  .colab-df-quickchart {\n",
              "    background-color: var(--bg-color);\n",
              "    border: none;\n",
              "    border-radius: 50%;\n",
              "    cursor: pointer;\n",
              "    display: none;\n",
              "    fill: var(--fill-color);\n",
              "    height: 32px;\n",
              "    padding: 0;\n",
              "    width: 32px;\n",
              "  }\n",
              "\n",
              "  .colab-df-quickchart:hover {\n",
              "    background-color: var(--hover-bg-color);\n",
              "    box-shadow: 0 1px 2px rgba(60, 64, 67, 0.3), 0 1px 3px 1px rgba(60, 64, 67, 0.15);\n",
              "    fill: var(--button-hover-fill-color);\n",
              "  }\n",
              "\n",
              "  .colab-df-quickchart-complete:disabled,\n",
              "  .colab-df-quickchart-complete:disabled:hover {\n",
              "    background-color: var(--disabled-bg-color);\n",
              "    fill: var(--disabled-fill-color);\n",
              "    box-shadow: none;\n",
              "  }\n",
              "\n",
              "  .colab-df-spinner {\n",
              "    border: 2px solid var(--fill-color);\n",
              "    border-color: transparent;\n",
              "    border-bottom-color: var(--fill-color);\n",
              "    animation:\n",
              "      spin 1s steps(1) infinite;\n",
              "  }\n",
              "\n",
              "  @keyframes spin {\n",
              "    0% {\n",
              "      border-color: transparent;\n",
              "      border-bottom-color: var(--fill-color);\n",
              "      border-left-color: var(--fill-color);\n",
              "    }\n",
              "    20% {\n",
              "      border-color: transparent;\n",
              "      border-left-color: var(--fill-color);\n",
              "      border-top-color: var(--fill-color);\n",
              "    }\n",
              "    30% {\n",
              "      border-color: transparent;\n",
              "      border-left-color: var(--fill-color);\n",
              "      border-top-color: var(--fill-color);\n",
              "      border-right-color: var(--fill-color);\n",
              "    }\n",
              "    40% {\n",
              "      border-color: transparent;\n",
              "      border-right-color: var(--fill-color);\n",
              "      border-top-color: var(--fill-color);\n",
              "    }\n",
              "    60% {\n",
              "      border-color: transparent;\n",
              "      border-right-color: var(--fill-color);\n",
              "    }\n",
              "    80% {\n",
              "      border-color: transparent;\n",
              "      border-right-color: var(--fill-color);\n",
              "      border-bottom-color: var(--fill-color);\n",
              "    }\n",
              "    90% {\n",
              "      border-color: transparent;\n",
              "      border-bottom-color: var(--fill-color);\n",
              "    }\n",
              "  }\n",
              "</style>\n",
              "\n",
              "  <script>\n",
              "    async function quickchart(key) {\n",
              "      const quickchartButtonEl =\n",
              "        document.querySelector('#' + key + ' button');\n",
              "      quickchartButtonEl.disabled = true;  // To prevent multiple clicks.\n",
              "      quickchartButtonEl.classList.add('colab-df-spinner');\n",
              "      try {\n",
              "        const charts = await google.colab.kernel.invokeFunction(\n",
              "            'suggestCharts', [key], {});\n",
              "      } catch (error) {\n",
              "        console.error('Error during call to suggestCharts:', error);\n",
              "      }\n",
              "      quickchartButtonEl.classList.remove('colab-df-spinner');\n",
              "      quickchartButtonEl.classList.add('colab-df-quickchart-complete');\n",
              "    }\n",
              "    (() => {\n",
              "      let quickchartButtonEl =\n",
              "        document.querySelector('#df-c089b125-f2fd-4926-b947-6497cc795837 button');\n",
              "      quickchartButtonEl.style.display =\n",
              "        google.colab.kernel.accessAllowed ? 'block' : 'none';\n",
              "    })();\n",
              "  </script>\n",
              "</div>\n",
              "\n",
              "  <div id=\"id_94e59aba-1471-4c44-89f4-a7020cbef242\">\n",
              "    <style>\n",
              "      .colab-df-generate {\n",
              "        background-color: #E8F0FE;\n",
              "        border: none;\n",
              "        border-radius: 50%;\n",
              "        cursor: pointer;\n",
              "        display: none;\n",
              "        fill: #1967D2;\n",
              "        height: 32px;\n",
              "        padding: 0 0 0 0;\n",
              "        width: 32px;\n",
              "      }\n",
              "\n",
              "      .colab-df-generate:hover {\n",
              "        background-color: #E2EBFA;\n",
              "        box-shadow: 0px 1px 2px rgba(60, 64, 67, 0.3), 0px 1px 3px 1px rgba(60, 64, 67, 0.15);\n",
              "        fill: #174EA6;\n",
              "      }\n",
              "\n",
              "      [theme=dark] .colab-df-generate {\n",
              "        background-color: #3B4455;\n",
              "        fill: #D2E3FC;\n",
              "      }\n",
              "\n",
              "      [theme=dark] .colab-df-generate:hover {\n",
              "        background-color: #434B5C;\n",
              "        box-shadow: 0px 1px 3px 1px rgba(0, 0, 0, 0.15);\n",
              "        filter: drop-shadow(0px 1px 2px rgba(0, 0, 0, 0.3));\n",
              "        fill: #FFFFFF;\n",
              "      }\n",
              "    </style>\n",
              "    <button class=\"colab-df-generate\" onclick=\"generateWithVariable('data')\"\n",
              "            title=\"Generate code using this dataframe.\"\n",
              "            style=\"display:none;\">\n",
              "\n",
              "  <svg xmlns=\"http://www.w3.org/2000/svg\" height=\"24px\"viewBox=\"0 0 24 24\"\n",
              "       width=\"24px\">\n",
              "    <path d=\"M7,19H8.4L18.45,9,17,7.55,7,17.6ZM5,21V16.75L18.45,3.32a2,2,0,0,1,2.83,0l1.4,1.43a1.91,1.91,0,0,1,.58,1.4,1.91,1.91,0,0,1-.58,1.4L9.25,21ZM18.45,9,17,7.55Zm-12,3A5.31,5.31,0,0,0,4.9,8.1,5.31,5.31,0,0,0,1,6.5,5.31,5.31,0,0,0,4.9,4.9,5.31,5.31,0,0,0,6.5,1,5.31,5.31,0,0,0,8.1,4.9,5.31,5.31,0,0,0,12,6.5,5.46,5.46,0,0,0,6.5,12Z\"/>\n",
              "  </svg>\n",
              "    </button>\n",
              "    <script>\n",
              "      (() => {\n",
              "      const buttonEl =\n",
              "        document.querySelector('#id_94e59aba-1471-4c44-89f4-a7020cbef242 button.colab-df-generate');\n",
              "      buttonEl.style.display =\n",
              "        google.colab.kernel.accessAllowed ? 'block' : 'none';\n",
              "\n",
              "      buttonEl.onclick = () => {\n",
              "        google.colab.notebook.generateWithVariable('data');\n",
              "      }\n",
              "      })();\n",
              "    </script>\n",
              "  </div>\n",
              "\n",
              "    </div>\n",
              "  </div>\n"
            ],
            "application/vnd.google.colaboratory.intrinsic+json": {
              "type": "dataframe",
              "variable_name": "data",
              "summary": "{\n  \"name\": \"data\",\n  \"rows\": 50342,\n  \"fields\": [\n    {\n      \"column\": \"Experimentation\",\n      \"properties\": {\n        \"dtype\": \"category\",\n        \"num_unique_values\": 2,\n        \"samples\": [\n          \"No\",\n          \"Yes\"\n        ],\n        \"semantic_type\": \"\",\n        \"description\": \"\"\n      }\n    },\n    {\n      \"column\": \"Academic_Performance_Decline\",\n      \"properties\": {\n        \"dtype\": \"category\",\n        \"num_unique_values\": 2,\n        \"samples\": [\n          \"Yes\",\n          \"No\"\n        ],\n        \"semantic_type\": \"\",\n        \"description\": \"\"\n      }\n    },\n    {\n      \"column\": \"Social_Isolation\",\n      \"properties\": {\n        \"dtype\": \"category\",\n        \"num_unique_values\": 2,\n        \"samples\": [\n          \"Yes\",\n          \"No\"\n        ],\n        \"semantic_type\": \"\",\n        \"description\": \"\"\n      }\n    },\n    {\n      \"column\": \"Financial_Issues\",\n      \"properties\": {\n        \"dtype\": \"category\",\n        \"num_unique_values\": 2,\n        \"samples\": [\n          \"No\",\n          \"Yes\"\n        ],\n        \"semantic_type\": \"\",\n        \"description\": \"\"\n      }\n    },\n    {\n      \"column\": \"Physical_Mental_Health_Problems\",\n      \"properties\": {\n        \"dtype\": \"category\",\n        \"num_unique_values\": 2,\n        \"samples\": [\n          \"Yes\",\n          \"No\"\n        ],\n        \"semantic_type\": \"\",\n        \"description\": \"\"\n      }\n    },\n    {\n      \"column\": \"Legal_Consequences\",\n      \"properties\": {\n        \"dtype\": \"category\",\n        \"num_unique_values\": 2,\n        \"samples\": [\n          \"Yes\",\n          \"No\"\n        ],\n        \"semantic_type\": \"\",\n        \"description\": \"\"\n      }\n    },\n    {\n      \"column\": \"Relationship_Strain\",\n      \"properties\": {\n        \"dtype\": \"category\",\n        \"num_unique_values\": 2,\n        \"samples\": [\n          \"Yes\",\n          \"No\"\n        ],\n        \"semantic_type\": \"\",\n        \"description\": \"\"\n      }\n    },\n    {\n      \"column\": \"Risk_Taking_Behavior\",\n      \"properties\": {\n        \"dtype\": \"category\",\n        \"num_unique_values\": 2,\n        \"samples\": [\n          \"No\",\n          \"Yes\"\n        ],\n        \"semantic_type\": \"\",\n        \"description\": \"\"\n      }\n    },\n    {\n      \"column\": \"Withdrawal_Symptoms\",\n      \"properties\": {\n        \"dtype\": \"category\",\n        \"num_unique_values\": 2,\n        \"samples\": [\n          \"No\",\n          \"Yes\"\n        ],\n        \"semantic_type\": \"\",\n        \"description\": \"\"\n      }\n    },\n    {\n      \"column\": \"Denial_and_Resistance_to_Treatment\",\n      \"properties\": {\n        \"dtype\": \"category\",\n        \"num_unique_values\": 2,\n        \"samples\": [\n          \"Yes\",\n          \"No\"\n        ],\n        \"semantic_type\": \"\",\n        \"description\": \"\"\n      }\n    },\n    {\n      \"column\": \"Addiction_Class\",\n      \"properties\": {\n        \"dtype\": \"category\",\n        \"num_unique_values\": 2,\n        \"samples\": [\n          \"Yes\",\n          \"No\"\n        ],\n        \"semantic_type\": \"\",\n        \"description\": \"\"\n      }\n    }\n  ]\n}"
            }
          },
          "metadata": {},
          "execution_count": 2
        }
      ]
    },
    {
      "cell_type": "markdown",
      "source": [
        "The next step is to convert all of the data into 0 and 1s. Neccesary for formatting data for machine learning algorithms."
      ],
      "metadata": {
        "id": "C4cYva-RciE0"
      }
    },
    {
      "cell_type": "code",
      "source": [
        "label_encoder = LabelEncoder()\n",
        "for column in data.columns:\n",
        "    if data[column].dtype == 'object':\n",
        "        data[column] = label_encoder.fit_transform(data[column])"
      ],
      "metadata": {
        "id": "Rzq3Xnl_a_em"
      },
      "execution_count": 3,
      "outputs": []
    },
    {
      "cell_type": "markdown",
      "source": [
        "Load our Data Set\n",
        "X = is a matrix of all the featuers that could be addiction\n",
        "y = is the target to say if they are addicted or not"
      ],
      "metadata": {
        "id": "3rWZzTXpcf4N"
      }
    },
    {
      "cell_type": "code",
      "source": [
        "X = data.drop(columns=['Addiction_Class'])\n",
        "y = data['Addiction_Class']\n",
        "\n"
      ],
      "metadata": {
        "id": "Uy3JrFC1dD2e"
      },
      "execution_count": 4,
      "outputs": []
    },
    {
      "cell_type": "markdown",
      "source": [
        "Print our data to see what we are working with"
      ],
      "metadata": {
        "id": "p1ZjhzoJehxw"
      }
    },
    {
      "cell_type": "code",
      "source": [
        "# Access the first row of the DataFrame\n",
        "first_row = X.iloc[0]\n",
        "\n",
        "# Print the first row\n",
        "print(first_row)\n"
      ],
      "metadata": {
        "colab": {
          "base_uri": "https://localhost:8080/"
        },
        "id": "tLl7HRMEdvE_",
        "outputId": "6a7a9fee-bacf-43d5-8331-c3bdcdc32267"
      },
      "execution_count": 5,
      "outputs": [
        {
          "output_type": "stream",
          "name": "stdout",
          "text": [
            "Experimentation                       1\n",
            "Academic_Performance_Decline          0\n",
            "Social_Isolation                      0\n",
            "Financial_Issues                      1\n",
            "Physical_Mental_Health_Problems       0\n",
            "Legal_Consequences                    0\n",
            "Relationship_Strain                   0\n",
            "Risk_Taking_Behavior                  1\n",
            "Withdrawal_Symptoms                   1\n",
            "Denial_and_Resistance_to_Treatment    0\n",
            "Name: 0, dtype: int64\n"
          ]
        }
      ]
    },
    {
      "cell_type": "code",
      "source": [
        "y[0]"
      ],
      "metadata": {
        "colab": {
          "base_uri": "https://localhost:8080/"
        },
        "id": "qTbogFZ3elbY",
        "outputId": "eac041ff-b765-427a-cf60-5d2e4265f89b"
      },
      "execution_count": 6,
      "outputs": [
        {
          "output_type": "execute_result",
          "data": {
            "text/plain": [
              "0"
            ]
          },
          "metadata": {},
          "execution_count": 6
        }
      ]
    },
    {
      "cell_type": "markdown",
      "source": [
        "Split the data into testing and training sets\n"
      ],
      "metadata": {
        "id": "LhP8RGGnfQ-l"
      }
    },
    {
      "cell_type": "code",
      "source": [
        "X_train, X_test, y_train, y_test = train_test_split(X, y, test_size=0.2, random_state=42)"
      ],
      "metadata": {
        "id": "8pa4IoPGfgiH"
      },
      "execution_count": 7,
      "outputs": []
    },
    {
      "cell_type": "markdown",
      "source": [
        "Normalize Data for Faster Calculations"
      ],
      "metadata": {
        "id": "Z1ohucPSfnZ_"
      }
    },
    {
      "cell_type": "code",
      "source": [
        "#scaler = StandardScaler()\n",
        "#X_train = scaler.fit_transform(X_train)\n",
        "#X_test = scaler.transform(X_test)"
      ],
      "metadata": {
        "id": "pBhYrJnFf3Cx"
      },
      "execution_count": null,
      "outputs": []
    },
    {
      "cell_type": "markdown",
      "source": [
        "Build the model"
      ],
      "metadata": {
        "id": "F6dxhitrguaH"
      }
    },
    {
      "cell_type": "code",
      "source": [
        "model = Sequential([\n",
        "    Dense(units=10, activation='relu', input_shape=(10,)),\n",
        "    Dense(units=1, activation='sigmoid')\n",
        "])"
      ],
      "metadata": {
        "id": "8NGMyq0rgv0n"
      },
      "execution_count": 8,
      "outputs": []
    },
    {
      "cell_type": "markdown",
      "source": [
        "Compile Model"
      ],
      "metadata": {
        "id": "I1V8Dkb7h_KM"
      }
    },
    {
      "cell_type": "code",
      "source": [
        "model.compile(optimizer='adam', loss='binary_crossentropy', metrics=['accuracy'])"
      ],
      "metadata": {
        "id": "c3126CF9iAOe"
      },
      "execution_count": 9,
      "outputs": []
    },
    {
      "cell_type": "markdown",
      "source": [
        "Train Model\n"
      ],
      "metadata": {
        "id": "uwuxl0WriwdF"
      }
    },
    {
      "cell_type": "code",
      "source": [
        "history = model.fit(X_train, y_train, epochs=50, batch_size=32, validation_split=0.2)"
      ],
      "metadata": {
        "colab": {
          "base_uri": "https://localhost:8080/"
        },
        "id": "LVzcL4BzizAw",
        "outputId": "039ac2c2-431e-4549-c1f9-3620a48d7981"
      },
      "execution_count": 10,
      "outputs": [
        {
          "output_type": "stream",
          "name": "stdout",
          "text": [
            "Epoch 1/50\n",
            "1007/1007 [==============================] - 4s 3ms/step - loss: 0.6354 - accuracy: 0.6649 - val_loss: 0.6170 - val_accuracy: 0.6967\n",
            "Epoch 2/50\n",
            "1007/1007 [==============================] - 3s 3ms/step - loss: 0.6115 - accuracy: 0.7018 - val_loss: 0.6154 - val_accuracy: 0.6967\n",
            "Epoch 3/50\n",
            "1007/1007 [==============================] - 3s 3ms/step - loss: 0.6106 - accuracy: 0.7018 - val_loss: 0.6150 - val_accuracy: 0.6967\n",
            "Epoch 4/50\n",
            "1007/1007 [==============================] - 2s 2ms/step - loss: 0.6101 - accuracy: 0.7018 - val_loss: 0.6145 - val_accuracy: 0.6967\n",
            "Epoch 5/50\n",
            "1007/1007 [==============================] - 3s 3ms/step - loss: 0.6099 - accuracy: 0.7018 - val_loss: 0.6146 - val_accuracy: 0.6967\n",
            "Epoch 6/50\n",
            "1007/1007 [==============================] - 3s 3ms/step - loss: 0.6098 - accuracy: 0.7018 - val_loss: 0.6142 - val_accuracy: 0.6967\n",
            "Epoch 7/50\n",
            "1007/1007 [==============================] - 3s 3ms/step - loss: 0.6095 - accuracy: 0.7018 - val_loss: 0.6144 - val_accuracy: 0.6967\n",
            "Epoch 8/50\n",
            "1007/1007 [==============================] - 2s 2ms/step - loss: 0.6095 - accuracy: 0.7018 - val_loss: 0.6143 - val_accuracy: 0.6967\n",
            "Epoch 9/50\n",
            "1007/1007 [==============================] - 2s 2ms/step - loss: 0.6094 - accuracy: 0.7018 - val_loss: 0.6145 - val_accuracy: 0.6967\n",
            "Epoch 10/50\n",
            "1007/1007 [==============================] - 2s 2ms/step - loss: 0.6092 - accuracy: 0.7018 - val_loss: 0.6143 - val_accuracy: 0.6967\n",
            "Epoch 11/50\n",
            "1007/1007 [==============================] - 2s 2ms/step - loss: 0.6091 - accuracy: 0.7018 - val_loss: 0.6142 - val_accuracy: 0.6967\n",
            "Epoch 12/50\n",
            "1007/1007 [==============================] - 2s 2ms/step - loss: 0.6090 - accuracy: 0.7018 - val_loss: 0.6145 - val_accuracy: 0.6967\n",
            "Epoch 13/50\n",
            "1007/1007 [==============================] - 3s 3ms/step - loss: 0.6089 - accuracy: 0.7018 - val_loss: 0.6146 - val_accuracy: 0.6967\n",
            "Epoch 14/50\n",
            "1007/1007 [==============================] - 3s 3ms/step - loss: 0.6090 - accuracy: 0.7018 - val_loss: 0.6144 - val_accuracy: 0.6967\n",
            "Epoch 15/50\n",
            "1007/1007 [==============================] - 2s 2ms/step - loss: 0.6090 - accuracy: 0.7018 - val_loss: 0.6143 - val_accuracy: 0.6967\n",
            "Epoch 16/50\n",
            "1007/1007 [==============================] - 2s 2ms/step - loss: 0.6089 - accuracy: 0.7018 - val_loss: 0.6146 - val_accuracy: 0.6967\n",
            "Epoch 17/50\n",
            "1007/1007 [==============================] - 2s 2ms/step - loss: 0.6089 - accuracy: 0.7018 - val_loss: 0.6144 - val_accuracy: 0.6967\n",
            "Epoch 18/50\n",
            "1007/1007 [==============================] - 2s 2ms/step - loss: 0.6088 - accuracy: 0.7018 - val_loss: 0.6146 - val_accuracy: 0.6967\n",
            "Epoch 19/50\n",
            "1007/1007 [==============================] - 2s 2ms/step - loss: 0.6087 - accuracy: 0.7018 - val_loss: 0.6145 - val_accuracy: 0.6967\n",
            "Epoch 20/50\n",
            "1007/1007 [==============================] - 3s 3ms/step - loss: 0.6088 - accuracy: 0.7018 - val_loss: 0.6145 - val_accuracy: 0.6967\n",
            "Epoch 21/50\n",
            "1007/1007 [==============================] - 3s 3ms/step - loss: 0.6088 - accuracy: 0.7018 - val_loss: 0.6145 - val_accuracy: 0.6967\n",
            "Epoch 22/50\n",
            "1007/1007 [==============================] - 2s 2ms/step - loss: 0.6087 - accuracy: 0.7018 - val_loss: 0.6148 - val_accuracy: 0.6967\n",
            "Epoch 23/50\n",
            "1007/1007 [==============================] - 2s 2ms/step - loss: 0.6086 - accuracy: 0.7018 - val_loss: 0.6145 - val_accuracy: 0.6967\n",
            "Epoch 24/50\n",
            "1007/1007 [==============================] - 2s 2ms/step - loss: 0.6087 - accuracy: 0.7018 - val_loss: 0.6144 - val_accuracy: 0.6967\n",
            "Epoch 25/50\n",
            "1007/1007 [==============================] - 2s 2ms/step - loss: 0.6087 - accuracy: 0.7018 - val_loss: 0.6146 - val_accuracy: 0.6967\n",
            "Epoch 26/50\n",
            "1007/1007 [==============================] - 2s 2ms/step - loss: 0.6085 - accuracy: 0.7018 - val_loss: 0.6143 - val_accuracy: 0.6967\n",
            "Epoch 27/50\n",
            "1007/1007 [==============================] - 3s 3ms/step - loss: 0.6086 - accuracy: 0.7018 - val_loss: 0.6143 - val_accuracy: 0.6967\n",
            "Epoch 28/50\n",
            "1007/1007 [==============================] - 2s 2ms/step - loss: 0.6086 - accuracy: 0.7018 - val_loss: 0.6146 - val_accuracy: 0.6967\n",
            "Epoch 29/50\n",
            "1007/1007 [==============================] - 2s 2ms/step - loss: 0.6086 - accuracy: 0.7018 - val_loss: 0.6153 - val_accuracy: 0.6967\n",
            "Epoch 30/50\n",
            "1007/1007 [==============================] - 2s 2ms/step - loss: 0.6086 - accuracy: 0.7018 - val_loss: 0.6145 - val_accuracy: 0.6967\n",
            "Epoch 31/50\n",
            "1007/1007 [==============================] - 2s 2ms/step - loss: 0.6085 - accuracy: 0.7018 - val_loss: 0.6153 - val_accuracy: 0.6967\n",
            "Epoch 32/50\n",
            "1007/1007 [==============================] - 2s 2ms/step - loss: 0.6084 - accuracy: 0.7018 - val_loss: 0.6148 - val_accuracy: 0.6967\n",
            "Epoch 33/50\n",
            "1007/1007 [==============================] - 3s 3ms/step - loss: 0.6085 - accuracy: 0.7018 - val_loss: 0.6149 - val_accuracy: 0.6967\n",
            "Epoch 34/50\n",
            "1007/1007 [==============================] - 3s 3ms/step - loss: 0.6085 - accuracy: 0.7018 - val_loss: 0.6149 - val_accuracy: 0.6967\n",
            "Epoch 35/50\n",
            "1007/1007 [==============================] - 2s 2ms/step - loss: 0.6085 - accuracy: 0.7018 - val_loss: 0.6146 - val_accuracy: 0.6967\n",
            "Epoch 36/50\n",
            "1007/1007 [==============================] - 2s 2ms/step - loss: 0.6084 - accuracy: 0.7018 - val_loss: 0.6147 - val_accuracy: 0.6967\n",
            "Epoch 37/50\n",
            "1007/1007 [==============================] - 2s 2ms/step - loss: 0.6085 - accuracy: 0.7018 - val_loss: 0.6149 - val_accuracy: 0.6967\n",
            "Epoch 38/50\n",
            "1007/1007 [==============================] - 2s 2ms/step - loss: 0.6085 - accuracy: 0.7018 - val_loss: 0.6146 - val_accuracy: 0.6967\n",
            "Epoch 39/50\n",
            "1007/1007 [==============================] - 2s 2ms/step - loss: 0.6085 - accuracy: 0.7018 - val_loss: 0.6149 - val_accuracy: 0.6967\n",
            "Epoch 40/50\n",
            "1007/1007 [==============================] - 3s 3ms/step - loss: 0.6084 - accuracy: 0.7018 - val_loss: 0.6152 - val_accuracy: 0.6967\n",
            "Epoch 41/50\n",
            "1007/1007 [==============================] - 3s 3ms/step - loss: 0.6084 - accuracy: 0.7018 - val_loss: 0.6149 - val_accuracy: 0.6967\n",
            "Epoch 42/50\n",
            "1007/1007 [==============================] - 2s 2ms/step - loss: 0.6083 - accuracy: 0.7018 - val_loss: 0.6150 - val_accuracy: 0.6967\n",
            "Epoch 43/50\n",
            "1007/1007 [==============================] - 2s 2ms/step - loss: 0.6084 - accuracy: 0.7018 - val_loss: 0.6146 - val_accuracy: 0.6967\n",
            "Epoch 44/50\n",
            "1007/1007 [==============================] - 2s 2ms/step - loss: 0.6083 - accuracy: 0.7018 - val_loss: 0.6147 - val_accuracy: 0.6967\n",
            "Epoch 45/50\n",
            "1007/1007 [==============================] - 2s 2ms/step - loss: 0.6083 - accuracy: 0.7018 - val_loss: 0.6152 - val_accuracy: 0.6967\n",
            "Epoch 46/50\n",
            "1007/1007 [==============================] - 2s 2ms/step - loss: 0.6084 - accuracy: 0.7018 - val_loss: 0.6149 - val_accuracy: 0.6967\n",
            "Epoch 47/50\n",
            "1007/1007 [==============================] - 3s 3ms/step - loss: 0.6084 - accuracy: 0.7018 - val_loss: 0.6147 - val_accuracy: 0.6967\n",
            "Epoch 48/50\n",
            "1007/1007 [==============================] - 3s 3ms/step - loss: 0.6084 - accuracy: 0.7018 - val_loss: 0.6155 - val_accuracy: 0.6967\n",
            "Epoch 49/50\n",
            "1007/1007 [==============================] - 2s 2ms/step - loss: 0.6084 - accuracy: 0.7018 - val_loss: 0.6146 - val_accuracy: 0.6967\n",
            "Epoch 50/50\n",
            "1007/1007 [==============================] - 2s 2ms/step - loss: 0.6084 - accuracy: 0.7018 - val_loss: 0.6147 - val_accuracy: 0.6967\n"
          ]
        }
      ]
    },
    {
      "cell_type": "markdown",
      "source": [
        "Predict Accuracy"
      ],
      "metadata": {
        "id": "0BHDTGL8jmDN"
      }
    },
    {
      "cell_type": "code",
      "source": [
        "loss, accuracy = model.evaluate(X_test, y_test)\n",
        "print(f'Test Accuracy: {accuracy:.4f}')"
      ],
      "metadata": {
        "colab": {
          "base_uri": "https://localhost:8080/"
        },
        "id": "dwhgoxH4imvP",
        "outputId": "37ae5d0a-c457-4f69-c6d2-f01850991932"
      },
      "execution_count": 11,
      "outputs": [
        {
          "output_type": "stream",
          "name": "stdout",
          "text": [
            "315/315 [==============================] - 0s 1ms/step - loss: 0.6114 - accuracy: 0.7000\n",
            "Test Accuracy: 0.7000\n"
          ]
        }
      ]
    },
    {
      "cell_type": "markdown",
      "source": [
        "Make Predictions on New Data"
      ],
      "metadata": {
        "id": "5merGh8ajoXG"
      }
    },
    {
      "cell_type": "code",
      "source": [
        "first_line = X_test.iloc[4]\n",
        "\n",
        "first_line_reshaped = first_line.values.reshape(1, -1)\n",
        "\n",
        "\n",
        "\n",
        "prediction = model.predict(first_line_reshaped)\n",
        "\n",
        "\n",
        "\n",
        "#predictions = model.predict(X_test)\n",
        "prediction = (prediction < 0.3).astype(int)\n",
        "print(prediction)"
      ],
      "metadata": {
        "colab": {
          "base_uri": "https://localhost:8080/"
        },
        "id": "BAZFbF7OjvuL",
        "outputId": "342af87b-69cd-4b87-f558-d21bdc4b1027"
      },
      "execution_count": 12,
      "outputs": [
        {
          "output_type": "stream",
          "name": "stdout",
          "text": [
            "1/1 [==============================] - 0s 77ms/step\n",
            "[[1]]\n"
          ]
        }
      ]
    },
    {
      "cell_type": "markdown",
      "source": [
        "New Data Set Test"
      ],
      "metadata": {
        "id": "pSYLZu6FA2A4"
      }
    },
    {
      "cell_type": "code",
      "source": [
        "new_data = [1, 1, 1, 0, 1, 1, 0, 0, 0, 0]\n",
        "new_data_reshaped = np.array(new_data).reshape(1, -1)\n",
        "prediction = model.predict(new_data_reshaped)\n",
        "print(prediction)\n",
        "prediction = (prediction < 0.29487318).astype(int)\n",
        "if(prediction[0][0] == 1):\n",
        "  print(\"Yes\")\n",
        "else:\n",
        "  print(\"No\")\n",
        "\n",
        "\n",
        "\n"
      ],
      "metadata": {
        "colab": {
          "base_uri": "https://localhost:8080/"
        },
        "id": "Y7z_9wAzA3qU",
        "outputId": "a60bc686-c022-4bfa-d9f4-bfaa10cfbdfc"
      },
      "execution_count": 13,
      "outputs": [
        {
          "output_type": "stream",
          "name": "stdout",
          "text": [
            "1/1 [==============================] - 0s 26ms/step\n",
            "[[0.30335814]]\n",
            "No\n"
          ]
        }
      ]
    },
    {
      "cell_type": "markdown",
      "source": [
        "Decision Tree Algorithm using Basic XGBoost"
      ],
      "metadata": {
        "id": "aWUd7cvHXtCE"
      }
    },
    {
      "cell_type": "code",
      "source": [
        "xgb_model = xgb.XGBClassifier(objective='binary:logistic', random_state=47)\n",
        "xgb_model.fit(X_train, y_train)\n",
        "\n",
        "accuracy = xgb_model.score(X_test, y_test)\n",
        "print(\"Accuracy:\", accuracy)"
      ],
      "metadata": {
        "colab": {
          "base_uri": "https://localhost:8080/"
        },
        "id": "28jHwCieXvD8",
        "outputId": "46875555-c584-48e3-fbdf-9f6f694c104b"
      },
      "execution_count": 14,
      "outputs": [
        {
          "output_type": "stream",
          "name": "stdout",
          "text": [
            "Accuracy: 0.6999702055814877\n"
          ]
        }
      ]
    }
  ]
}